{
  "nbformat": 4,
  "nbformat_minor": 0,
  "metadata": {
    "colab": {
      "provenance": []
    },
    "kernelspec": {
      "name": "python3",
      "display_name": "Python 3"
    },
    "language_info": {
      "name": "python"
    }
  },
  "cells": [
    {
      "cell_type": "markdown",
      "source": [
        "# **SEA 820 NLP Final Project: Detecting AI-Generated Text**\n",
        "\n",
        "**Team Members**: Abhi Patel & Arnav Nigam\n",
        "\n",
        "**Dataset**: https://www.kaggle.com/datasets/shanegerami/ai-vs-human-text?resource=download"
      ],
      "metadata": {
        "id": "OzaBtv24krJ3"
      }
    },
    {
      "cell_type": "markdown",
      "source": [
        "# **Project Overview**\n",
        "\n",
        "- To build a classifier to detect whether a piece of text is human-written or AI-generated.\n",
        "\n",
        "- We are going to explore classical machine learning models (Logistic Regression and Naive Bayes) using TF-IDF features.\n",
        "\n",
        "- The goal is to establish a strong baseline for comparison with transformer models in Phase 2 of our project."
      ],
      "metadata": {
        "id": "r4b9abq3frAf"
      }
    },
    {
      "cell_type": "markdown",
      "source": [
        "# **Phase 1: Data Exploration & Preprocessing:**\n",
        "\n",
        "Do some data exploration and implement a baseline model to use with phase 2.\n"
      ],
      "metadata": {
        "id": "L2PCUUYzW_ON"
      }
    },
    {
      "cell_type": "code",
      "source": [
        "import pandas as pd\n",
        "from google.colab import drive\n",
        "\n",
        "drive.mount('/content/drive')"
      ],
      "metadata": {
        "colab": {
          "base_uri": "https://localhost:8080/",
          "height": 0
        },
        "id": "H35Z--Ljk4X8",
        "outputId": "05708303-0ee8-4deb-ea1d-7cf82afda43d"
      },
      "execution_count": 1,
      "outputs": [
        {
          "output_type": "stream",
          "name": "stdout",
          "text": [
            "Mounted at /content/drive\n"
          ]
        }
      ]
    },
    {
      "cell_type": "markdown",
      "source": [
        "## **Loading and exploring dataset**\n",
        "\n",
        "Dataset is from `https://www.kaggle.com/datasets/shanegerami/ai-vs-human-text?resource=download`.\n",
        "\n",
        "Consists of over 400000 texts. Either human or AI generated, with a mapping of 0 as human generated and 1 as Ai generated."
      ],
      "metadata": {
        "id": "aHW7UWWQgMKy"
      }
    },
    {
      "cell_type": "code",
      "source": [
        "dataset = '/content/drive/MyDrive/NLP/AI_Human.csv'\n",
        "\n",
        "df = pd.read_csv(dataset)\n",
        "print(\"Dataset loaded successfully!\")\n",
        "print(\"Shape:\", df.shape)\n",
        "print(\"\\nColumns:\", df.columns.tolist())\n",
        "\n",
        "# Preview first 5 rows\n",
        "df.head()"
      ],
      "metadata": {
        "colab": {
          "base_uri": "https://localhost:8080/",
          "height": 275
        },
        "id": "07cIGQjVlAbB",
        "outputId": "07664da6-00c5-44fd-9c6a-7a9860d85245"
      },
      "execution_count": null,
      "outputs": [
        {
          "output_type": "stream",
          "name": "stdout",
          "text": [
            "Dataset loaded successfully!\n",
            "Shape: (487235, 2)\n",
            "\n",
            "Columns: ['text', 'generated']\n"
          ]
        },
        {
          "output_type": "execute_result",
          "data": {
            "text/plain": [
              "                                                text  generated\n",
              "0  Cars. Cars have been around since they became ...        0.0\n",
              "1  Transportation is a large necessity in most co...        0.0\n",
              "2  \"America's love affair with it's vehicles seem...        0.0\n",
              "3  How often do you ride in a car? Do you drive a...        0.0\n",
              "4  Cars are a wonderful thing. They are perhaps o...        0.0"
            ],
            "text/html": [
              "\n",
              "  <div id=\"df-8da1065c-9ba7-4dec-a0c5-e3b72a958c8f\" class=\"colab-df-container\">\n",
              "    <div>\n",
              "<style scoped>\n",
              "    .dataframe tbody tr th:only-of-type {\n",
              "        vertical-align: middle;\n",
              "    }\n",
              "\n",
              "    .dataframe tbody tr th {\n",
              "        vertical-align: top;\n",
              "    }\n",
              "\n",
              "    .dataframe thead th {\n",
              "        text-align: right;\n",
              "    }\n",
              "</style>\n",
              "<table border=\"1\" class=\"dataframe\">\n",
              "  <thead>\n",
              "    <tr style=\"text-align: right;\">\n",
              "      <th></th>\n",
              "      <th>text</th>\n",
              "      <th>generated</th>\n",
              "    </tr>\n",
              "  </thead>\n",
              "  <tbody>\n",
              "    <tr>\n",
              "      <th>0</th>\n",
              "      <td>Cars. Cars have been around since they became ...</td>\n",
              "      <td>0.0</td>\n",
              "    </tr>\n",
              "    <tr>\n",
              "      <th>1</th>\n",
              "      <td>Transportation is a large necessity in most co...</td>\n",
              "      <td>0.0</td>\n",
              "    </tr>\n",
              "    <tr>\n",
              "      <th>2</th>\n",
              "      <td>\"America's love affair with it's vehicles seem...</td>\n",
              "      <td>0.0</td>\n",
              "    </tr>\n",
              "    <tr>\n",
              "      <th>3</th>\n",
              "      <td>How often do you ride in a car? Do you drive a...</td>\n",
              "      <td>0.0</td>\n",
              "    </tr>\n",
              "    <tr>\n",
              "      <th>4</th>\n",
              "      <td>Cars are a wonderful thing. They are perhaps o...</td>\n",
              "      <td>0.0</td>\n",
              "    </tr>\n",
              "  </tbody>\n",
              "</table>\n",
              "</div>\n",
              "    <div class=\"colab-df-buttons\">\n",
              "\n",
              "  <div class=\"colab-df-container\">\n",
              "    <button class=\"colab-df-convert\" onclick=\"convertToInteractive('df-8da1065c-9ba7-4dec-a0c5-e3b72a958c8f')\"\n",
              "            title=\"Convert this dataframe to an interactive table.\"\n",
              "            style=\"display:none;\">\n",
              "\n",
              "  <svg xmlns=\"http://www.w3.org/2000/svg\" height=\"24px\" viewBox=\"0 -960 960 960\">\n",
              "    <path d=\"M120-120v-720h720v720H120Zm60-500h600v-160H180v160Zm220 220h160v-160H400v160Zm0 220h160v-160H400v160ZM180-400h160v-160H180v160Zm440 0h160v-160H620v160ZM180-180h160v-160H180v160Zm440 0h160v-160H620v160Z\"/>\n",
              "  </svg>\n",
              "    </button>\n",
              "\n",
              "  <style>\n",
              "    .colab-df-container {\n",
              "      display:flex;\n",
              "      gap: 12px;\n",
              "    }\n",
              "\n",
              "    .colab-df-convert {\n",
              "      background-color: #E8F0FE;\n",
              "      border: none;\n",
              "      border-radius: 50%;\n",
              "      cursor: pointer;\n",
              "      display: none;\n",
              "      fill: #1967D2;\n",
              "      height: 32px;\n",
              "      padding: 0 0 0 0;\n",
              "      width: 32px;\n",
              "    }\n",
              "\n",
              "    .colab-df-convert:hover {\n",
              "      background-color: #E2EBFA;\n",
              "      box-shadow: 0px 1px 2px rgba(60, 64, 67, 0.3), 0px 1px 3px 1px rgba(60, 64, 67, 0.15);\n",
              "      fill: #174EA6;\n",
              "    }\n",
              "\n",
              "    .colab-df-buttons div {\n",
              "      margin-bottom: 4px;\n",
              "    }\n",
              "\n",
              "    [theme=dark] .colab-df-convert {\n",
              "      background-color: #3B4455;\n",
              "      fill: #D2E3FC;\n",
              "    }\n",
              "\n",
              "    [theme=dark] .colab-df-convert:hover {\n",
              "      background-color: #434B5C;\n",
              "      box-shadow: 0px 1px 3px 1px rgba(0, 0, 0, 0.15);\n",
              "      filter: drop-shadow(0px 1px 2px rgba(0, 0, 0, 0.3));\n",
              "      fill: #FFFFFF;\n",
              "    }\n",
              "  </style>\n",
              "\n",
              "    <script>\n",
              "      const buttonEl =\n",
              "        document.querySelector('#df-8da1065c-9ba7-4dec-a0c5-e3b72a958c8f button.colab-df-convert');\n",
              "      buttonEl.style.display =\n",
              "        google.colab.kernel.accessAllowed ? 'block' : 'none';\n",
              "\n",
              "      async function convertToInteractive(key) {\n",
              "        const element = document.querySelector('#df-8da1065c-9ba7-4dec-a0c5-e3b72a958c8f');\n",
              "        const dataTable =\n",
              "          await google.colab.kernel.invokeFunction('convertToInteractive',\n",
              "                                                    [key], {});\n",
              "        if (!dataTable) return;\n",
              "\n",
              "        const docLinkHtml = 'Like what you see? Visit the ' +\n",
              "          '<a target=\"_blank\" href=https://colab.research.google.com/notebooks/data_table.ipynb>data table notebook</a>'\n",
              "          + ' to learn more about interactive tables.';\n",
              "        element.innerHTML = '';\n",
              "        dataTable['output_type'] = 'display_data';\n",
              "        await google.colab.output.renderOutput(dataTable, element);\n",
              "        const docLink = document.createElement('div');\n",
              "        docLink.innerHTML = docLinkHtml;\n",
              "        element.appendChild(docLink);\n",
              "      }\n",
              "    </script>\n",
              "  </div>\n",
              "\n",
              "\n",
              "    <div id=\"df-22c5bb56-3e15-4089-9cc2-1df574788376\">\n",
              "      <button class=\"colab-df-quickchart\" onclick=\"quickchart('df-22c5bb56-3e15-4089-9cc2-1df574788376')\"\n",
              "                title=\"Suggest charts\"\n",
              "                style=\"display:none;\">\n",
              "\n",
              "<svg xmlns=\"http://www.w3.org/2000/svg\" height=\"24px\"viewBox=\"0 0 24 24\"\n",
              "     width=\"24px\">\n",
              "    <g>\n",
              "        <path d=\"M19 3H5c-1.1 0-2 .9-2 2v14c0 1.1.9 2 2 2h14c1.1 0 2-.9 2-2V5c0-1.1-.9-2-2-2zM9 17H7v-7h2v7zm4 0h-2V7h2v10zm4 0h-2v-4h2v4z\"/>\n",
              "    </g>\n",
              "</svg>\n",
              "      </button>\n",
              "\n",
              "<style>\n",
              "  .colab-df-quickchart {\n",
              "      --bg-color: #E8F0FE;\n",
              "      --fill-color: #1967D2;\n",
              "      --hover-bg-color: #E2EBFA;\n",
              "      --hover-fill-color: #174EA6;\n",
              "      --disabled-fill-color: #AAA;\n",
              "      --disabled-bg-color: #DDD;\n",
              "  }\n",
              "\n",
              "  [theme=dark] .colab-df-quickchart {\n",
              "      --bg-color: #3B4455;\n",
              "      --fill-color: #D2E3FC;\n",
              "      --hover-bg-color: #434B5C;\n",
              "      --hover-fill-color: #FFFFFF;\n",
              "      --disabled-bg-color: #3B4455;\n",
              "      --disabled-fill-color: #666;\n",
              "  }\n",
              "\n",
              "  .colab-df-quickchart {\n",
              "    background-color: var(--bg-color);\n",
              "    border: none;\n",
              "    border-radius: 50%;\n",
              "    cursor: pointer;\n",
              "    display: none;\n",
              "    fill: var(--fill-color);\n",
              "    height: 32px;\n",
              "    padding: 0;\n",
              "    width: 32px;\n",
              "  }\n",
              "\n",
              "  .colab-df-quickchart:hover {\n",
              "    background-color: var(--hover-bg-color);\n",
              "    box-shadow: 0 1px 2px rgba(60, 64, 67, 0.3), 0 1px 3px 1px rgba(60, 64, 67, 0.15);\n",
              "    fill: var(--button-hover-fill-color);\n",
              "  }\n",
              "\n",
              "  .colab-df-quickchart-complete:disabled,\n",
              "  .colab-df-quickchart-complete:disabled:hover {\n",
              "    background-color: var(--disabled-bg-color);\n",
              "    fill: var(--disabled-fill-color);\n",
              "    box-shadow: none;\n",
              "  }\n",
              "\n",
              "  .colab-df-spinner {\n",
              "    border: 2px solid var(--fill-color);\n",
              "    border-color: transparent;\n",
              "    border-bottom-color: var(--fill-color);\n",
              "    animation:\n",
              "      spin 1s steps(1) infinite;\n",
              "  }\n",
              "\n",
              "  @keyframes spin {\n",
              "    0% {\n",
              "      border-color: transparent;\n",
              "      border-bottom-color: var(--fill-color);\n",
              "      border-left-color: var(--fill-color);\n",
              "    }\n",
              "    20% {\n",
              "      border-color: transparent;\n",
              "      border-left-color: var(--fill-color);\n",
              "      border-top-color: var(--fill-color);\n",
              "    }\n",
              "    30% {\n",
              "      border-color: transparent;\n",
              "      border-left-color: var(--fill-color);\n",
              "      border-top-color: var(--fill-color);\n",
              "      border-right-color: var(--fill-color);\n",
              "    }\n",
              "    40% {\n",
              "      border-color: transparent;\n",
              "      border-right-color: var(--fill-color);\n",
              "      border-top-color: var(--fill-color);\n",
              "    }\n",
              "    60% {\n",
              "      border-color: transparent;\n",
              "      border-right-color: var(--fill-color);\n",
              "    }\n",
              "    80% {\n",
              "      border-color: transparent;\n",
              "      border-right-color: var(--fill-color);\n",
              "      border-bottom-color: var(--fill-color);\n",
              "    }\n",
              "    90% {\n",
              "      border-color: transparent;\n",
              "      border-bottom-color: var(--fill-color);\n",
              "    }\n",
              "  }\n",
              "</style>\n",
              "\n",
              "      <script>\n",
              "        async function quickchart(key) {\n",
              "          const quickchartButtonEl =\n",
              "            document.querySelector('#' + key + ' button');\n",
              "          quickchartButtonEl.disabled = true;  // To prevent multiple clicks.\n",
              "          quickchartButtonEl.classList.add('colab-df-spinner');\n",
              "          try {\n",
              "            const charts = await google.colab.kernel.invokeFunction(\n",
              "                'suggestCharts', [key], {});\n",
              "          } catch (error) {\n",
              "            console.error('Error during call to suggestCharts:', error);\n",
              "          }\n",
              "          quickchartButtonEl.classList.remove('colab-df-spinner');\n",
              "          quickchartButtonEl.classList.add('colab-df-quickchart-complete');\n",
              "        }\n",
              "        (() => {\n",
              "          let quickchartButtonEl =\n",
              "            document.querySelector('#df-22c5bb56-3e15-4089-9cc2-1df574788376 button');\n",
              "          quickchartButtonEl.style.display =\n",
              "            google.colab.kernel.accessAllowed ? 'block' : 'none';\n",
              "        })();\n",
              "      </script>\n",
              "    </div>\n",
              "\n",
              "    </div>\n",
              "  </div>\n"
            ],
            "application/vnd.google.colaboratory.intrinsic+json": {
              "type": "dataframe",
              "variable_name": "df"
            }
          },
          "metadata": {},
          "execution_count": 2
        }
      ]
    },
    {
      "cell_type": "markdown",
      "source": [
        "### **Basic information of our dataset:**"
      ],
      "metadata": {
        "id": "Ljt8ivnDlgao"
      }
    },
    {
      "cell_type": "code",
      "source": [
        "print(\"Missing values per column:\")\n",
        "print(df.isnull().sum())\n",
        "\n",
        "print(\"Dataset Info:\")\n",
        "df.info()"
      ],
      "metadata": {
        "colab": {
          "base_uri": "https://localhost:8080/"
        },
        "id": "63AjXynklIKi",
        "outputId": "dff64a29-4d7c-4574-f7f9-4db5ef645a82"
      },
      "execution_count": null,
      "outputs": [
        {
          "output_type": "stream",
          "name": "stdout",
          "text": [
            "Missing values per column:\n",
            "text         0\n",
            "generated    0\n",
            "dtype: int64\n",
            "Dataset Info:\n",
            "<class 'pandas.core.frame.DataFrame'>\n",
            "RangeIndex: 487235 entries, 0 to 487234\n",
            "Data columns (total 2 columns):\n",
            " #   Column     Non-Null Count   Dtype  \n",
            "---  ------     --------------   -----  \n",
            " 0   text       487235 non-null  object \n",
            " 1   generated  487235 non-null  float64\n",
            "dtypes: float64(1), object(1)\n",
            "memory usage: 7.4+ MB\n"
          ]
        }
      ]
    },
    {
      "cell_type": "markdown",
      "source": [
        "### **Class Distribution**"
      ],
      "metadata": {
        "id": "peVkxFRFld0F"
      }
    },
    {
      "cell_type": "code",
      "source": [
        "import matplotlib.pyplot as plt\n",
        "import seaborn as sns\n",
        "\n",
        "sns.countplot(data=df, x='generated')\n",
        "plt.title('Class Distribution (0 = Human, 1 = AI)')\n",
        "plt.xlabel('Label')\n",
        "plt.ylabel('Count')\n",
        "plt.show()\n",
        "\n",
        "# Optional: exact class counts\n",
        "print(\"Class counts:\\n\", df['generated'].value_counts())"
      ],
      "metadata": {
        "colab": {
          "base_uri": "https://localhost:8080/",
          "height": 559
        },
        "id": "VIvpQhHFlfch",
        "outputId": "5939f79f-39d0-48f0-8b84-db21a57b2813"
      },
      "execution_count": null,
      "outputs": [
        {
          "output_type": "display_data",
          "data": {
            "text/plain": [
              "<Figure size 640x480 with 1 Axes>"
            ],
            "image/png": "[encoded data removed]"
          },
          "metadata": {}
        },
        {
          "output_type": "stream",
          "name": "stdout",
          "text": [
            "Class counts:\n",
            " generated\n",
            "0.0    305797\n",
            "1.0    181438\n",
            "Name: count, dtype: int64\n"
          ]
        }
      ]
    },
    {
      "cell_type": "markdown",
      "source": [
        "The graph above shows a clear imbalance between human generated and AI generated text, with majority of being human generated. A 65% of human generated may cause overfitting with both AI and human generated texts being tagged as human. However, let us see how our model will perform with this kind of imbalance."
      ],
      "metadata": {
        "id": "bha_wnX1gyuD"
      }
    },
    {
      "cell_type": "markdown",
      "source": [
        "### **Text Length Distribution**"
      ],
      "metadata": {
        "id": "AhSNT_pSlnLw"
      }
    },
    {
      "cell_type": "code",
      "source": [
        "df['text_length'] = df['text'].apply(lambda x: len(str(x).split()))\n",
        "print(\"Text length stats:\\n\", df['text_length'].describe())\n",
        "\n",
        "# Histogram\n",
        "sns.histplot(df['text_length'], bins=30, kde=True)\n",
        "plt.title('Text Length Distribution (in words)')\n",
        "plt.xlabel('Number of Words')\n",
        "plt.ylabel('Frequency')\n",
        "plt.show()"
      ],
      "metadata": {
        "colab": {
          "base_uri": "https://localhost:8080/",
          "height": 646
        },
        "id": "9XpReFUHlmoB",
        "outputId": "43a0bfc0-e320-4c8d-d9c5-6ec6b9a8565b"
      },
      "execution_count": null,
      "outputs": [
        {
          "output_type": "stream",
          "name": "stdout",
          "text": [
            "Text length stats:\n",
            " count    487235.000000\n",
            "mean        393.096214\n",
            "std         168.593328\n",
            "min           0.000000\n",
            "25%         278.000000\n",
            "50%         363.000000\n",
            "75%         471.000000\n",
            "max        1668.000000\n",
            "Name: text_length, dtype: float64\n"
          ]
        },
        {
          "output_type": "display_data",
          "data": {
            "text/plain": [
              "<Figure size 640x480 with 1 Axes>"
            ],
            "image/png": "[encoded data removed]"
          },
          "metadata": {}
        }
      ]
    },
    {
      "cell_type": "markdown",
      "source": [
        "The above shows us how the text distrivution is like:\n",
        "\n",
        "- The distribution is right-skewed (positively skewed), with the majority of texts falling between 250 and 500 words.\n",
        "\n",
        "- The peak seems to be around 350–400 words, which aligns closely with the median to be around 393.\n",
        "\n",
        "- A few texts are very short (even 0 words), possibly due to empty or missed entries, which may require further cleaning as we proceed."
      ],
      "metadata": {
        "id": "zFcVENXPhgX7"
      }
    },
    {
      "cell_type": "markdown",
      "source": [
        "### **Data Preprocessing Pipeline:**\n",
        "\n",
        "We will work with nltk to do our data preprocessing, we have used this earlier in our previous assignments giving us a quick headstart at this point. Additionally, we tried using spacy but due to the size of the dataset and spacy being heavy with we were running out of resources on google colab, therefore went ahead with nltk.\n",
        "\n",
        "Not only that, but we wanted simplicity and speed over advanced linguistic parsing. NLTK's tools are sufficient for this phase.\n",
        "\n",
        "The following steps were carried out for our preprocessing:\n",
        "\n",
        "1. Lowercasing\n",
        "\n",
        "2. Removing punctuation and digits\n",
        "\n",
        "3. Removing stopwords\n",
        "\n",
        "4. Lemmatization (using spaCy)\n",
        "\n",
        "5. Tokenization"
      ],
      "metadata": {
        "id": "FLdauGtvl2z3"
      }
    },
    {
      "cell_type": "code",
      "source": [
        "import nltk\n",
        "import string\n",
        "import pandas as pd\n",
        "from nltk.corpus import stopwords\n",
        "from nltk.stem import WordNetLemmatizer\n",
        "from nltk.tokenize import word_tokenize\n",
        "from tqdm import tqdm\n",
        "\n",
        "# Setup\n",
        "nltk.download('punkt_tab')\n",
        "nltk.download('punkt')\n",
        "nltk.download('stopwords')\n",
        "nltk.download('wordnet')"
      ],
      "metadata": {
        "colab": {
          "base_uri": "https://localhost:8080/"
        },
        "id": "5yLYOeQfTOBL",
        "outputId": "88d87a0f-1419-4677-b6e6-b2e2f3086123"
      },
      "execution_count": null,
      "outputs": [
        {
          "output_type": "stream",
          "name": "stderr",
          "text": [
            "[nltk_data] Downloading package punkt_tab to /root/nltk_data...\n",
            "[nltk_data]   Unzipping tokenizers/punkt_tab.zip.\n",
            "[nltk_data] Downloading package punkt to /root/nltk_data...\n",
            "[nltk_data]   Package punkt is already up-to-date!\n",
            "[nltk_data] Downloading package stopwords to /root/nltk_data...\n",
            "[nltk_data]   Package stopwords is already up-to-date!\n",
            "[nltk_data] Downloading package wordnet to /root/nltk_data...\n",
            "[nltk_data]   Package wordnet is already up-to-date!\n"
          ]
        },
        {
          "output_type": "execute_result",
          "data": {
            "text/plain": [
              "True"
            ]
          },
          "metadata": {},
          "execution_count": 9
        }
      ]
    },
    {
      "cell_type": "code",
      "source": [
        "stop_words = set(stopwords.words('english'))\n",
        "lemmatizer = WordNetLemmatizer()\n",
        "\n",
        "def preprocess_text(text):\n",
        "    text = text.lower()\n",
        "    tokens = word_tokenize(text)\n",
        "    tokens = [t for t in tokens if t not in stop_words and t not in string.punctuation]\n",
        "    tokens = [lemmatizer.lemmatize(t) for t in tokens]\n",
        "    return \" \".join(tokens)\n",
        "\n",
        "tqdm.pandas()\n",
        "df['processed_text'] = df['text'].astype(str).progress_apply(preprocess_text)\n",
        "\n"
      ],
      "metadata": {
        "colab": {
          "base_uri": "https://localhost:8080/"
        },
        "id": "SmB-ebidmRtu",
        "outputId": "d2ba984f-8be5-4eeb-a4d5-58c50fbcafed"
      },
      "execution_count": null,
      "outputs": [
        {
          "output_type": "stream",
          "name": "stderr",
          "text": [
            "100%|██████████| 487235/487235 [27:22<00:00, 296.70it/s]\n"
          ]
        }
      ]
    },
    {
      "cell_type": "code",
      "source": [
        "# save preprcessed test fir future use\n",
        "output_path = '/content/drive/MyDrive/NLP/preprocessed_dataset.csv'\n",
        "df.to_csv(output_path, index=False)\n",
        "print(f\"Preprocessed dataset saved to: {output_path}\")"
      ],
      "metadata": {
        "colab": {
          "base_uri": "https://localhost:8080/"
        },
        "id": "u5VdOqdTSrcG",
        "outputId": "46bb279b-c3ae-4791-b39e-757c22e45cdb"
      },
      "execution_count": null,
      "outputs": [
        {
          "output_type": "stream",
          "name": "stdout",
          "text": [
            "Preprocessed dataset saved to: /content/drive/MyDrive/NLP/preprocessed_dataset.csv\n"
          ]
        }
      ]
    },
    {
      "cell_type": "markdown",
      "source": [
        "# **Data exploration after processing**"
      ],
      "metadata": {
        "id": "FwE51mQnRRuX"
      }
    },
    {
      "cell_type": "markdown",
      "source": [
        "After data preporcesing we went ahead and did some data cleaning to fill out the empty textbox.\n",
        "\n",
        "- Missing processed_text values are filled with an empty string\n",
        "\n",
        "- Rows with empty or whitespace-only processed_text are removed, This ensures that only meaningful text data is retained\n"
      ],
      "metadata": {
        "id": "fswcs0hWjOIv"
      }
    },
    {
      "cell_type": "code",
      "source": [
        "import pandas as pd\n",
        "\n",
        "df = pd.read_csv('/content/drive/MyDrive/NLP/preprocessed_dataset.csv')\n",
        "\n",
        "# Fill missing values with empty string (if any)\n",
        "df['processed_text'] = df['processed_text'].fillna('')\n",
        "\n",
        "# Drop empty rows after trimming whitespace\n",
        "df = df[df['processed_text'].str.strip() != '']"
      ],
      "metadata": {
        "id": "WXAcT8iVRodb"
      },
      "execution_count": 28,
      "outputs": []
    },
    {
      "cell_type": "code",
      "source": [
        "print(\"Dataset loaded successfully\")\n",
        "print(\"Cleaned Data Shape:\", df.shape)\n",
        "print(\"\\nColumns:\", df.columns.tolist())\n",
        "\n",
        "# Preview first 5 rows\n",
        "df.head()"
      ],
      "metadata": {
        "colab": {
          "base_uri": "https://localhost:8080/",
          "height": 276
        },
        "id": "LuqkyQI_5z-E",
        "outputId": "f9d49599-0018-4278-b62d-56d460539c79"
      },
      "execution_count": 29,
      "outputs": [
        {
          "output_type": "stream",
          "name": "stdout",
          "text": [
            "Dataset loaded successfully\n",
            "Cleaned Data Shape: (487230, 4)\n",
            "\n",
            "Columns: ['text', 'generated', 'text_length', 'processed_text']\n"
          ]
        },
        {
          "output_type": "execute_result",
          "data": {
            "text/plain": [
              "                                                text  generated  text_length  \\\n",
              "0  Cars. Cars have been around since they became ...        0.0          584   \n",
              "1  Transportation is a large necessity in most co...        0.0          462   \n",
              "2  \"America's love affair with it's vehicles seem...        0.0          744   \n",
              "3  How often do you ride in a car? Do you drive a...        0.0          686   \n",
              "4  Cars are a wonderful thing. They are perhaps o...        0.0          871   \n",
              "\n",
              "                                      processed_text  \n",
              "0  car car around since became famous 1900s henry...  \n",
              "1  transportation large necessity country worldwi...  \n",
              "2  `` america 's love affair 's vehicle seems coo...  \n",
              "3  often ride car drive one motor vehicle work st...  \n",
              "4  car wonderful thing perhaps one world greatest...  "
            ],
            "text/html": [
              "\n",
              "  <div id=\"df-ecd7cc76-cc58-47ac-b94b-23613192a96b\" class=\"colab-df-container\">\n",
              "    <div>\n",
              "<style scoped>\n",
              "    .dataframe tbody tr th:only-of-type {\n",
              "        vertical-align: middle;\n",
              "    }\n",
              "\n",
              "    .dataframe tbody tr th {\n",
              "        vertical-align: top;\n",
              "    }\n",
              "\n",
              "    .dataframe thead th {\n",
              "        text-align: right;\n",
              "    }\n",
              "</style>\n",
              "<table border=\"1\" class=\"dataframe\">\n",
              "  <thead>\n",
              "    <tr style=\"text-align: right;\">\n",
              "      <th></th>\n",
              "      <th>text</th>\n",
              "      <th>generated</th>\n",
              "      <th>text_length</th>\n",
              "      <th>processed_text</th>\n",
              "    </tr>\n",
              "  </thead>\n",
              "  <tbody>\n",
              "    <tr>\n",
              "      <th>0</th>\n",
              "      <td>Cars. Cars have been around since they became ...</td>\n",
              "      <td>0.0</td>\n",
              "      <td>584</td>\n",
              "      <td>car car around since became famous 1900s henry...</td>\n",
              "    </tr>\n",
              "    <tr>\n",
              "      <th>1</th>\n",
              "      <td>Transportation is a large necessity in most co...</td>\n",
              "      <td>0.0</td>\n",
              "      <td>462</td>\n",
              "      <td>transportation large necessity country worldwi...</td>\n",
              "    </tr>\n",
              "    <tr>\n",
              "      <th>2</th>\n",
              "      <td>\"America's love affair with it's vehicles seem...</td>\n",
              "      <td>0.0</td>\n",
              "      <td>744</td>\n",
              "      <td>`` america 's love affair 's vehicle seems coo...</td>\n",
              "    </tr>\n",
              "    <tr>\n",
              "      <th>3</th>\n",
              "      <td>How often do you ride in a car? Do you drive a...</td>\n",
              "      <td>0.0</td>\n",
              "      <td>686</td>\n",
              "      <td>often ride car drive one motor vehicle work st...</td>\n",
              "    </tr>\n",
              "    <tr>\n",
              "      <th>4</th>\n",
              "      <td>Cars are a wonderful thing. They are perhaps o...</td>\n",
              "      <td>0.0</td>\n",
              "      <td>871</td>\n",
              "      <td>car wonderful thing perhaps one world greatest...</td>\n",
              "    </tr>\n",
              "  </tbody>\n",
              "</table>\n",
              "</div>\n",
              "    <div class=\"colab-df-buttons\">\n",
              "\n",
              "  <div class=\"colab-df-container\">\n",
              "    <button class=\"colab-df-convert\" onclick=\"convertToInteractive('df-ecd7cc76-cc58-47ac-b94b-23613192a96b')\"\n",
              "            title=\"Convert this dataframe to an interactive table.\"\n",
              "            style=\"display:none;\">\n",
              "\n",
              "  <svg xmlns=\"http://www.w3.org/2000/svg\" height=\"24px\" viewBox=\"0 -960 960 960\">\n",
              "    <path d=\"M120-120v-720h720v720H120Zm60-500h600v-160H180v160Zm220 220h160v-160H400v160Zm0 220h160v-160H400v160ZM180-400h160v-160H180v160Zm440 0h160v-160H620v160ZM180-180h160v-160H180v160Zm440 0h160v-160H620v160Z\"/>\n",
              "  </svg>\n",
              "    </button>\n",
              "\n",
              "  <style>\n",
              "    .colab-df-container {\n",
              "      display:flex;\n",
              "      gap: 12px;\n",
              "    }\n",
              "\n",
              "    .colab-df-convert {\n",
              "      background-color: #E8F0FE;\n",
              "      border: none;\n",
              "      border-radius: 50%;\n",
              "      cursor: pointer;\n",
              "      display: none;\n",
              "      fill: #1967D2;\n",
              "      height: 32px;\n",
              "      padding: 0 0 0 0;\n",
              "      width: 32px;\n",
              "    }\n",
              "\n",
              "    .colab-df-convert:hover {\n",
              "      background-color: #E2EBFA;\n",
              "      box-shadow: 0px 1px 2px rgba(60, 64, 67, 0.3), 0px 1px 3px 1px rgba(60, 64, 67, 0.15);\n",
              "      fill: #174EA6;\n",
              "    }\n",
              "\n",
              "    .colab-df-buttons div {\n",
              "      margin-bottom: 4px;\n",
              "    }\n",
              "\n",
              "    [theme=dark] .colab-df-convert {\n",
              "      background-color: #3B4455;\n",
              "      fill: #D2E3FC;\n",
              "    }\n",
              "\n",
              "    [theme=dark] .colab-df-convert:hover {\n",
              "      background-color: #434B5C;\n",
              "      box-shadow: 0px 1px 3px 1px rgba(0, 0, 0, 0.15);\n",
              "      filter: drop-shadow(0px 1px 2px rgba(0, 0, 0, 0.3));\n",
              "      fill: #FFFFFF;\n",
              "    }\n",
              "  </style>\n",
              "\n",
              "    <script>\n",
              "      const buttonEl =\n",
              "        document.querySelector('#df-ecd7cc76-cc58-47ac-b94b-23613192a96b button.colab-df-convert');\n",
              "      buttonEl.style.display =\n",
              "        google.colab.kernel.accessAllowed ? 'block' : 'none';\n",
              "\n",
              "      async function convertToInteractive(key) {\n",
              "        const element = document.querySelector('#df-ecd7cc76-cc58-47ac-b94b-23613192a96b');\n",
              "        const dataTable =\n",
              "          await google.colab.kernel.invokeFunction('convertToInteractive',\n",
              "                                                    [key], {});\n",
              "        if (!dataTable) return;\n",
              "\n",
              "        const docLinkHtml = 'Like what you see? Visit the ' +\n",
              "          '<a target=\"_blank\" href=https://colab.research.google.com/notebooks/data_table.ipynb>data table notebook</a>'\n",
              "          + ' to learn more about interactive tables.';\n",
              "        element.innerHTML = '';\n",
              "        dataTable['output_type'] = 'display_data';\n",
              "        await google.colab.output.renderOutput(dataTable, element);\n",
              "        const docLink = document.createElement('div');\n",
              "        docLink.innerHTML = docLinkHtml;\n",
              "        element.appendChild(docLink);\n",
              "      }\n",
              "    </script>\n",
              "  </div>\n",
              "\n",
              "\n",
              "    <div id=\"df-1dca21bd-9c5a-4f8b-94f5-fc7ba498e5c0\">\n",
              "      <button class=\"colab-df-quickchart\" onclick=\"quickchart('df-1dca21bd-9c5a-4f8b-94f5-fc7ba498e5c0')\"\n",
              "                title=\"Suggest charts\"\n",
              "                style=\"display:none;\">\n",
              "\n",
              "<svg xmlns=\"http://www.w3.org/2000/svg\" height=\"24px\"viewBox=\"0 0 24 24\"\n",
              "     width=\"24px\">\n",
              "    <g>\n",
              "        <path d=\"M19 3H5c-1.1 0-2 .9-2 2v14c0 1.1.9 2 2 2h14c1.1 0 2-.9 2-2V5c0-1.1-.9-2-2-2zM9 17H7v-7h2v7zm4 0h-2V7h2v10zm4 0h-2v-4h2v4z\"/>\n",
              "    </g>\n",
              "</svg>\n",
              "      </button>\n",
              "\n",
              "<style>\n",
              "  .colab-df-quickchart {\n",
              "      --bg-color: #E8F0FE;\n",
              "      --fill-color: #1967D2;\n",
              "      --hover-bg-color: #E2EBFA;\n",
              "      --hover-fill-color: #174EA6;\n",
              "      --disabled-fill-color: #AAA;\n",
              "      --disabled-bg-color: #DDD;\n",
              "  }\n",
              "\n",
              "  [theme=dark] .colab-df-quickchart {\n",
              "      --bg-color: #3B4455;\n",
              "      --fill-color: #D2E3FC;\n",
              "      --hover-bg-color: #434B5C;\n",
              "      --hover-fill-color: #FFFFFF;\n",
              "      --disabled-bg-color: #3B4455;\n",
              "      --disabled-fill-color: #666;\n",
              "  }\n",
              "\n",
              "  .colab-df-quickchart {\n",
              "    background-color: var(--bg-color);\n",
              "    border: none;\n",
              "    border-radius: 50%;\n",
              "    cursor: pointer;\n",
              "    display: none;\n",
              "    fill: var(--fill-color);\n",
              "    height: 32px;\n",
              "    padding: 0;\n",
              "    width: 32px;\n",
              "  }\n",
              "\n",
              "  .colab-df-quickchart:hover {\n",
              "    background-color: var(--hover-bg-color);\n",
              "    box-shadow: 0 1px 2px rgba(60, 64, 67, 0.3), 0 1px 3px 1px rgba(60, 64, 67, 0.15);\n",
              "    fill: var(--button-hover-fill-color);\n",
              "  }\n",
              "\n",
              "  .colab-df-quickchart-complete:disabled,\n",
              "  .colab-df-quickchart-complete:disabled:hover {\n",
              "    background-color: var(--disabled-bg-color);\n",
              "    fill: var(--disabled-fill-color);\n",
              "    box-shadow: none;\n",
              "  }\n",
              "\n",
              "  .colab-df-spinner {\n",
              "    border: 2px solid var(--fill-color);\n",
              "    border-color: transparent;\n",
              "    border-bottom-color: var(--fill-color);\n",
              "    animation:\n",
              "      spin 1s steps(1) infinite;\n",
              "  }\n",
              "\n",
              "  @keyframes spin {\n",
              "    0% {\n",
              "      border-color: transparent;\n",
              "      border-bottom-color: var(--fill-color);\n",
              "      border-left-color: var(--fill-color);\n",
              "    }\n",
              "    20% {\n",
              "      border-color: transparent;\n",
              "      border-left-color: var(--fill-color);\n",
              "      border-top-color: var(--fill-color);\n",
              "    }\n",
              "    30% {\n",
              "      border-color: transparent;\n",
              "      border-left-color: var(--fill-color);\n",
              "      border-top-color: var(--fill-color);\n",
              "      border-right-color: var(--fill-color);\n",
              "    }\n",
              "    40% {\n",
              "      border-color: transparent;\n",
              "      border-right-color: var(--fill-color);\n",
              "      border-top-color: var(--fill-color);\n",
              "    }\n",
              "    60% {\n",
              "      border-color: transparent;\n",
              "      border-right-color: var(--fill-color);\n",
              "    }\n",
              "    80% {\n",
              "      border-color: transparent;\n",
              "      border-right-color: var(--fill-color);\n",
              "      border-bottom-color: var(--fill-color);\n",
              "    }\n",
              "    90% {\n",
              "      border-color: transparent;\n",
              "      border-bottom-color: var(--fill-color);\n",
              "    }\n",
              "  }\n",
              "</style>\n",
              "\n",
              "      <script>\n",
              "        async function quickchart(key) {\n",
              "          const quickchartButtonEl =\n",
              "            document.querySelector('#' + key + ' button');\n",
              "          quickchartButtonEl.disabled = true;  // To prevent multiple clicks.\n",
              "          quickchartButtonEl.classList.add('colab-df-spinner');\n",
              "          try {\n",
              "            const charts = await google.colab.kernel.invokeFunction(\n",
              "                'suggestCharts', [key], {});\n",
              "          } catch (error) {\n",
              "            console.error('Error during call to suggestCharts:', error);\n",
              "          }\n",
              "          quickchartButtonEl.classList.remove('colab-df-spinner');\n",
              "          quickchartButtonEl.classList.add('colab-df-quickchart-complete');\n",
              "        }\n",
              "        (() => {\n",
              "          let quickchartButtonEl =\n",
              "            document.querySelector('#df-1dca21bd-9c5a-4f8b-94f5-fc7ba498e5c0 button');\n",
              "          quickchartButtonEl.style.display =\n",
              "            google.colab.kernel.accessAllowed ? 'block' : 'none';\n",
              "        })();\n",
              "      </script>\n",
              "    </div>\n",
              "\n",
              "    </div>\n",
              "  </div>\n"
            ],
            "application/vnd.google.colaboratory.intrinsic+json": {
              "type": "dataframe",
              "variable_name": "df"
            }
          },
          "metadata": {},
          "execution_count": 29
        }
      ]
    },
    {
      "cell_type": "markdown",
      "source": [
        "This cleaning step above ensures that all texts passed to the TF-IDF vectorizer and models are valid and meaningful."
      ],
      "metadata": {
        "id": "WflrhrwUjsnb"
      }
    },
    {
      "cell_type": "markdown",
      "source": [
        "### **Word Frequencies in both AI and Human generated text (Showing top 10)**\n",
        "\n",
        "This helps to gives a glimpse of the top 10 word occurence between human and AI generated text."
      ],
      "metadata": {
        "id": "lfpN0no7Z7Yy"
      }
    },
    {
      "cell_type": "code",
      "source": [
        "from collections import Counter\n",
        "\n",
        "word_freq = Counter()\n",
        "\n",
        "for text in df['processed_text']:\n",
        "    tokens = text.split()\n",
        "    word_freq.update(tokens)\n",
        "\n",
        "top_words = word_freq.most_common(10)\n",
        "\n",
        "print(\"Top 10 Most Frequent Words (All):\")\n",
        "for word, freq in top_words:\n",
        "    print(f\"{word}: {freq}\")\n",
        "\n",
        "\n",
        "import matplotlib.pyplot as plt\n",
        "\n",
        "# plotting\n",
        "def plot_freq(counter, title):\n",
        "    top_items = counter.most_common(10)\n",
        "    words, freqs = zip(*top_items)\n",
        "    plt.figure(figsize=(8,4))\n",
        "    plt.bar(words, freqs)\n",
        "    plt.title(title)\n",
        "    plt.xticks(rotation=45)\n",
        "    plt.show()"
      ],
      "metadata": {
        "id": "lqqy5QEt6McQ",
        "colab": {
          "base_uri": "https://localhost:8080/",
          "height": 0
        },
        "outputId": "3272e3b7-0774-4e13-9609-11b83df5beab"
      },
      "execution_count": 30,
      "outputs": [
        {
          "output_type": "stream",
          "name": "stdout",
          "text": [
            "Top 10 Most Frequent Words (All):\n",
            "student: 1565308\n",
            "car: 1201736\n",
            "people: 1171584\n",
            "would: 1025164\n",
            "'s: 957259\n",
            "school: 786572\n",
            "n't: 760661\n",
            "help: 643832\n",
            "also: 643000\n",
            "time: 627524\n"
          ]
        }
      ]
    },
    {
      "cell_type": "code",
      "source": [
        "word_freq_human = Counter()\n",
        "\n",
        "for text in df[df['generated'] == 0.0]['processed_text']:\n",
        "    tokens = text.split()\n",
        "    word_freq_human.update(tokens)\n",
        "\n",
        "print(\"Top 10 Words (Human):\")\n",
        "for word, freq in word_freq_human.most_common(10):\n",
        "    print(f\"{word}: {freq}\")\n",
        "\n",
        "plot_freq(word_freq_human, \"Top 10 Words in Human Texts\")"
      ],
      "metadata": {
        "id": "aoFqx3G36PZI",
        "colab": {
          "base_uri": "https://localhost:8080/",
          "height": 615
        },
        "outputId": "116a3d2a-8747-4eae-bf30-0d5e3262f281"
      },
      "execution_count": 31,
      "outputs": [
        {
          "output_type": "stream",
          "name": "stdout",
          "text": [
            "Top 10 Words (Human):\n",
            "student: 1145169\n",
            "car: 908254\n",
            "people: 898740\n",
            "would: 884305\n",
            "n't: 689354\n",
            "school: 614796\n",
            "'s: 575916\n",
            "'': 547071\n",
            "could: 459729\n",
            "get: 459274\n"
          ]
        },
        {
          "output_type": "display_data",
          "data": {
            "text/plain": [
              "<Figure size 800x400 with 1 Axes>"
            ],
            "image/png": "[encoded data removed]"
          },
          "metadata": {}
        }
      ]
    },
    {
      "cell_type": "code",
      "source": [
        "word_freq_ai = Counter()\n",
        "\n",
        "for text in df[df['generated'] == 1.0]['processed_text']:\n",
        "    tokens = text.split()\n",
        "    word_freq_ai.update(tokens)\n",
        "\n",
        "print(\"Top 10 Words (AI):\")\n",
        "for word, freq in word_freq_ai.most_common(10):\n",
        "    print(f\"{word}: {freq}\")\n",
        "\n",
        "plot_freq(word_freq_ai, \"Top 10 Words in AI Texts\")\n"
      ],
      "metadata": {
        "id": "QIFH05kF6RtJ",
        "colab": {
          "base_uri": "https://localhost:8080/",
          "height": 620
        },
        "outputId": "375e2996-efcd-4582-f970-a03c4846d524"
      },
      "execution_count": 32,
      "outputs": [
        {
          "output_type": "stream",
          "name": "stdout",
          "text": [
            "Top 10 Words (AI):\n",
            "student: 420139\n",
            "'s: 381343\n",
            "car: 293482\n",
            "people: 272844\n",
            "also: 239022\n",
            "help: 225166\n",
            "electoral: 220153\n",
            "college: 205285\n",
            "like: 203048\n",
            "state: 198130\n"
          ]
        },
        {
          "output_type": "display_data",
          "data": {
            "text/plain": [
              "<Figure size 800x400 with 1 Axes>"
            ],
            "image/png": "[encoded data removed]"
          },
          "metadata": {}
        }
      ]
    },
    {
      "cell_type": "markdown",
      "source": [
        "# **Implementing Baseline Model:**"
      ],
      "metadata": {
        "id": "JlJxErynRCdD"
      }
    },
    {
      "cell_type": "markdown",
      "source": [
        "### **TF-IDF Feature Extraction**"
      ],
      "metadata": {
        "id": "VNdPLlL3nRgq"
      }
    },
    {
      "cell_type": "markdown",
      "source": [
        "To convert the cleaned text into numerical features suitable for machine learning, we used TF-IDF (Term Frequency–Inverse Document Frequency) vectorization. This method assigns weights to words (or n-grams) based on how important they are in a document relative to the entire corpus."
      ],
      "metadata": {
        "id": "Oy_Fv6C7kLai"
      }
    },
    {
      "cell_type": "code",
      "source": [
        "from sklearn.feature_extraction.text import TfidfVectorizer\n",
        "\n",
        "# Configure the vectorizer\n",
        "tfidf_vectorizer = TfidfVectorizer(\n",
        "    max_features=15000, #Limits the vocabulary to the 15,000 most informative terms based on frequency and TF-IDF scores, helping reduce dimensionality and overfitting.\n",
        "    min_df=5,           #Ignores terms that appear in fewer than 5 documents, removing rare and potentially noisy word\n",
        "    max_df=0.85,        #Ignores terms that appear in more than 85% of documents, eliminating overly common\n",
        "    ngram_range=(1, 2), #Helps to capture both unigrams and bigrams\n",
        "    sublinear_tf=True\n",
        ")\n",
        "\n",
        "X = tfidf_vectorizer.fit_transform(df['processed_text'])\n",
        "y = df['generated']\n",
        "\n",
        "print(\"TF-IDF shape:\", X.shape)"
      ],
      "metadata": {
        "colab": {
          "base_uri": "https://localhost:8080/",
          "height": 0
        },
        "id": "JWCL6XErAvGI",
        "outputId": "2a3ffd5a-a3bc-46b6-f2f7-59202b2c5340"
      },
      "execution_count": 33,
      "outputs": [
        {
          "output_type": "stream",
          "name": "stdout",
          "text": [
            "TF-IDF shape: (487230, 15000)\n"
          ]
        }
      ]
    },
    {
      "cell_type": "markdown",
      "source": [
        "The resulting output is a sparse matrix of shape (487230, 15000) — where each row corresponds to a document and each column to a term or n-gram feature."
      ],
      "metadata": {
        "id": "BH7Wh_HRkzTK"
      }
    },
    {
      "cell_type": "markdown",
      "source": [
        "### **Splitted the processed dataset to 80% being used in training and 20% used in test.**"
      ],
      "metadata": {
        "id": "gYpP7_IlkMl8"
      }
    },
    {
      "cell_type": "code",
      "source": [
        "from sklearn.model_selection import train_test_split\n",
        "\n",
        "# Use X from new TF-IDF\n",
        "X_train, X_test, y_train, y_test = train_test_split(\n",
        "    X, y, test_size=0.2, stratify=y, random_state=42\n",
        ")"
      ],
      "metadata": {
        "id": "ypVFOnaKBRms"
      },
      "execution_count": 34,
      "outputs": []
    },
    {
      "cell_type": "markdown",
      "source": [
        "With the above, we have fianlly chosen to use 2 models, naive bayes and logisitc regression in order to choose our baseline model. Alot will be needed to decide the final baseline model. Such as metrics and sets of exmaples to see how the model performs in real life"
      ],
      "metadata": {
        "id": "Jj3L2JaElKan"
      }
    },
    {
      "cell_type": "markdown",
      "source": [
        "### **Baseline Model Option 1: Logistic Regression**"
      ],
      "metadata": {
        "id": "flO_MEXOnere"
      }
    },
    {
      "cell_type": "code",
      "source": [
        "from sklearn.linear_model import LogisticRegression\n",
        "from sklearn.metrics import classification_report\n",
        "\n",
        "lr_model = LogisticRegression(\n",
        "    max_iter=1000,\n",
        "    class_weight='balanced',\n",
        ")\n",
        "\n",
        "lr_model.fit(X_train, y_train)\n",
        "y_pred_lr = lr_model.predict(X_test)\n",
        "\n",
        "print(\"Logistic Regression Performance:\")\n",
        "print(classification_report(y_test, y_pred_lr, digits=4))"
      ],
      "metadata": {
        "colab": {
          "base_uri": "https://localhost:8080/",
          "height": 0
        },
        "id": "_sD4EdxDBUni",
        "outputId": "84f8e165-91b4-45b5-9805-40d22c3d1fb2"
      },
      "execution_count": 35,
      "outputs": [
        {
          "output_type": "stream",
          "name": "stdout",
          "text": [
            "Logistic Regression Performance:\n",
            "              precision    recall  f1-score   support\n",
            "\n",
            "         0.0     0.9958    0.9967    0.9963     61159\n",
            "         1.0     0.9945    0.9929    0.9937     36287\n",
            "\n",
            "    accuracy                         0.9953     97446\n",
            "   macro avg     0.9952    0.9948    0.9950     97446\n",
            "weighted avg     0.9953    0.9953    0.9953     97446\n",
            "\n"
          ]
        }
      ]
    },
    {
      "cell_type": "markdown",
      "source": [
        "From the above metrics, Logistic Regression performs exceptionally well across all metrics, with high precision and recall for both human and AI-generated texts. It has a very low false positive and false negative rate on our test set."
      ],
      "metadata": {
        "id": "VV5RixCcqgi6"
      }
    },
    {
      "cell_type": "code",
      "source": [
        "from sklearn.metrics import precision_recall_curve\n",
        "from sklearn.metrics import roc_curve, auc\n",
        "\n",
        "y_scores = lr_model.predict_proba(X_test)[:, 1]  # Probabilities for class 1\n",
        "fpr, tpr, _ = roc_curve(y_test, y_scores)\n",
        "roc_auc = auc(fpr, tpr)\n",
        "\n",
        "plt.plot(fpr, tpr, label=f\"ROC Curve (AUC = {roc_auc:.2f})\")\n",
        "plt.plot([0, 1], [0, 1], 'k--')\n",
        "plt.xlabel(\"False Positive Rate\")\n",
        "plt.ylabel(\"True Positive Rate\")\n",
        "plt.title(\"ROC Curve\")\n",
        "plt.legend()\n",
        "plt.grid(True)\n",
        "plt.show()\n",
        "\n",
        "precision, recall, _ = precision_recall_curve(y_test, y_scores)\n",
        "\n",
        "plt.plot(recall, precision, marker='.')\n",
        "plt.xlabel(\"Recall\")\n",
        "plt.ylabel(\"Precision\")\n",
        "plt.title(\"Precision-Recall Curve\")\n",
        "plt.grid(True)\n",
        "plt.show()"
      ],
      "metadata": {
        "colab": {
          "base_uri": "https://localhost:8080/",
          "height": 927
        },
        "id": "EOcgVjlBQkYH",
        "outputId": "23cb83ff-0f1e-41c7-e5f6-a1de29d1660b"
      },
      "execution_count": 36,
      "outputs": [
        {
          "output_type": "display_data",
          "data": {
            "text/plain": [
              "<Figure size 640x480 with 1 Axes>"
            ],
            "image/png": "[encoded data removed]"
          },
          "metadata": {}
        },
        {
          "output_type": "display_data",
          "data": {
            "text/plain": [
              "<Figure size 640x480 with 1 Axes>"
            ],
            "image/png": "[encoded data removed]"
          },
          "metadata": {}
        }
      ]
    },
    {
      "cell_type": "code",
      "source": [
        "# save model to drive for future use\n",
        "import pickle\n",
        "\n",
        "with open('/content/drive/MyDrive/NLP/lr_model_new.pkl', 'wb') as f:\n",
        "    pickle.dump(lr_model, f)"
      ],
      "metadata": {
        "id": "i9yWhLZmQl37"
      },
      "execution_count": 37,
      "outputs": []
    },
    {
      "cell_type": "markdown",
      "source": [
        "### **Baseline Model Option 2: Multinomial Naive Bayes**"
      ],
      "metadata": {
        "id": "-CCoWaginksP"
      }
    },
    {
      "cell_type": "code",
      "source": [
        "from sklearn.naive_bayes import MultinomialNB\n",
        "\n",
        "nb_model = MultinomialNB()\n",
        "nb_model.fit(X_train, y_train)\n",
        "y_pred_nb = nb_model.predict(X_test)\n",
        "\n",
        "print(\"Naive Bayes Performance:\")\n",
        "print(classification_report(y_test, y_pred_nb, digits=4))"
      ],
      "metadata": {
        "colab": {
          "base_uri": "https://localhost:8080/",
          "height": 0
        },
        "id": "GurHP59fBZSY",
        "outputId": "fbc9f0de-9976-423f-e597-23e85f906d60"
      },
      "execution_count": 38,
      "outputs": [
        {
          "output_type": "stream",
          "name": "stdout",
          "text": [
            "Naive Bayes Performance:\n",
            "              precision    recall  f1-score   support\n",
            "\n",
            "         0.0     0.9707    0.9830    0.9768     61159\n",
            "         1.0     0.9707    0.9500    0.9602     36287\n",
            "\n",
            "    accuracy                         0.9707     97446\n",
            "   macro avg     0.9707    0.9665    0.9685     97446\n",
            "weighted avg     0.9707    0.9707    0.9706     97446\n",
            "\n"
          ]
        }
      ]
    },
    {
      "cell_type": "markdown",
      "source": [
        "From the above metrics,  Naive Bayes performs slightly lower than Logistic Regression on this dataset. It achieves strong performance, but has a lower recall for AI-generated texts, indicating more false negatives (misclassifying AI as human)."
      ],
      "metadata": {
        "id": "acGuYMsjqd3n"
      }
    },
    {
      "cell_type": "code",
      "source": [
        "from sklearn.metrics import precision_recall_curve, roc_curve, auc\n",
        "import matplotlib.pyplot as plt\n",
        "\n",
        "# Get predicted probabilities for class 1\n",
        "y_scores_nb = nb_model.predict_proba(X_test)[:, 1]\n",
        "\n",
        "# ROC Curve\n",
        "fpr_nb, tpr_nb, _ = roc_curve(y_test, y_scores_nb)\n",
        "roc_auc_nb = auc(fpr_nb, tpr_nb)\n",
        "\n",
        "plt.plot(fpr_nb, tpr_nb, label=f\"Naive Bayes ROC (AUC = {roc_auc_nb:.2f})\")\n",
        "plt.plot([0, 1], [0, 1], 'k--')\n",
        "plt.xlabel(\"False Positive Rate\")\n",
        "plt.ylabel(\"True Positive Rate\")\n",
        "plt.title(\"ROC Curve - Naive Bayes\")\n",
        "plt.legend()\n",
        "plt.grid(True)\n",
        "plt.show()\n",
        "\n",
        "# Precision-Recall Curve\n",
        "precision_nb, recall_nb, _ = precision_recall_curve(y_test, y_scores_nb)\n",
        "\n",
        "plt.plot(recall_nb, precision_nb, marker='.')\n",
        "plt.xlabel(\"Recall\")\n",
        "plt.ylabel(\"Precision\")\n",
        "plt.title(\"Precision-Recall Curve - Naive Bayes\")\n",
        "plt.grid(True)\n",
        "plt.show()\n"
      ],
      "metadata": {
        "colab": {
          "base_uri": "https://localhost:8080/",
          "height": 927
        },
        "id": "62HP2-4MVvGd",
        "outputId": "1840a048-0724-458a-e06e-c802cf492a1c"
      },
      "execution_count": 39,
      "outputs": [
        {
          "output_type": "display_data",
          "data": {
            "text/plain": [
              "<Figure size 640x480 with 1 Axes>"
            ],
            "image/png": "[encoded data removed]"
          },
          "metadata": {}
        },
        {
          "output_type": "display_data",
          "data": {
            "text/plain": [
              "<Figure size 640x480 with 1 Axes>"
            ],
            "image/png": "[encoded data removed]"
          },
          "metadata": {}
        }
      ]
    },
    {
      "cell_type": "code",
      "source": [
        "# save model to drive for future use\n",
        "import pickle\n",
        "\n",
        "with open('/content/drive/MyDrive/NLP/nb_model.pkl', 'wb') as f:\n",
        "    pickle.dump(nb_model, f)"
      ],
      "metadata": {
        "id": "-DBa7BNcVv34"
      },
      "execution_count": 47,
      "outputs": []
    },
    {
      "cell_type": "markdown",
      "source": [
        "### **Confusion Matrix**\n",
        "\n",
        "To help see the true positives and false positives"
      ],
      "metadata": {
        "id": "aF_KzFHMnswD"
      }
    },
    {
      "cell_type": "code",
      "source": [
        "from sklearn.metrics import ConfusionMatrixDisplay\n",
        "import matplotlib.pyplot as plt\n",
        "\n",
        "fig, ax = plt.subplots(1, 2, figsize=(12, 5))\n",
        "\n",
        "ConfusionMatrixDisplay.from_predictions(y_test, y_pred_lr, ax=ax[0], cmap='Blues')\n",
        "ax[0].set_title(\"Logistic Regression [0 = Human, 1 = AI]\")\n",
        "\n",
        "ConfusionMatrixDisplay.from_predictions(y_test, y_pred_nb, ax=ax[1], cmap='Greens')\n",
        "ax[1].set_title(\"Naive Bayes [0 = Human, 1 = AI]\")\n",
        "\n",
        "plt.tight_layout()\n",
        "plt.show()"
      ],
      "metadata": {
        "colab": {
          "base_uri": "https://localhost:8080/",
          "height": 516
        },
        "id": "iv-IjNTNBdGm",
        "outputId": "c32c7191-166e-4c1a-fb52-e998f5ee83ee"
      },
      "execution_count": 40,
      "outputs": [
        {
          "output_type": "display_data",
          "data": {
            "text/plain": [
              "<Figure size 1200x500 with 4 Axes>"
            ],
            "image/png": "[encoded data removed]"
          },
          "metadata": {}
        }
      ]
    },
    {
      "cell_type": "markdown",
      "source": [
        "### **Model Exploration and choosing baseline model after training**"
      ],
      "metadata": {
        "id": "OFmY5Os8fk2f"
      }
    },
    {
      "cell_type": "code",
      "source": [
        "import nltk\n",
        "import string\n",
        "from nltk.corpus import stopwords\n",
        "from nltk.tokenize import word_tokenize\n",
        "from nltk.stem import WordNetLemmatizer\n",
        "\n",
        "nltk.download('punkt')\n",
        "nltk.download('punkt_tab')\n",
        "\n",
        "nltk.download('stopwords')\n",
        "nltk.download('wordnet')\n",
        "\n",
        "def preprocess_text(text):\n",
        "    # Lowercase\n",
        "    text = text.lower()\n",
        "\n",
        "    # Tokenize\n",
        "    tokens = word_tokenize(text)\n",
        "\n",
        "    # Remove stopwords and punctuation\n",
        "    stop_words = set(stopwords.words('english'))\n",
        "    tokens = [t for t in tokens if t not in string.punctuation and t not in stop_words]\n",
        "\n",
        "    # Lemmatize\n",
        "    lemmatizer = WordNetLemmatizer()\n",
        "    tokens = [lemmatizer.lemmatize(t) for t in tokens]\n",
        "\n",
        "    return ' '.join(tokens)"
      ],
      "metadata": {
        "colab": {
          "base_uri": "https://localhost:8080/",
          "height": 0
        },
        "id": "WY-SoZ91UBOh",
        "outputId": "c045a75f-2f2c-43a5-baf9-23ac5268a296"
      },
      "execution_count": 41,
      "outputs": [
        {
          "output_type": "stream",
          "name": "stderr",
          "text": [
            "[nltk_data] Downloading package punkt to /root/nltk_data...\n",
            "[nltk_data]   Package punkt is already up-to-date!\n",
            "[nltk_data] Downloading package punkt_tab to /root/nltk_data...\n",
            "[nltk_data]   Package punkt_tab is already up-to-date!\n",
            "[nltk_data] Downloading package stopwords to /root/nltk_data...\n",
            "[nltk_data]   Package stopwords is already up-to-date!\n",
            "[nltk_data] Downloading package wordnet to /root/nltk_data...\n",
            "[nltk_data]   Package wordnet is already up-to-date!\n"
          ]
        }
      ]
    },
    {
      "cell_type": "code",
      "source": [
        "import pandas as pd\n",
        "import numpy as np"
      ],
      "metadata": {
        "id": "J4v6FAbWhyR8"
      },
      "execution_count": 42,
      "outputs": []
    },
    {
      "cell_type": "markdown",
      "source": [
        "## **Sampling using the logistic regression model**"
      ],
      "metadata": {
        "id": "HtBcbFNVmKi6"
      }
    },
    {
      "cell_type": "code",
      "source": [
        "# Sample: Human-written texts\n",
        "human_samples = [\n",
        "    \"The school times were the best, we had the opportunity to hang around, be lazy and don't do our assignments, I wish I was still in school.\",\n",
        "    \"Our jobs are indeed becoming automated, just the other day I had the chance of building an automated agent using GPTs new feature and ordered myself a chicken rotisserie form Costco. It was such an unbelivable moment in office.\",\n",
        "    \"A wise man once said, by losing a battle does not mean you lost a war, it just shows oyur time is not right and you have a few more chances to get this right. SO why not ocncentrate on our next steps and future, rather than concentrating on what has occured. I believe, it all happens for the good\",\n",
        "    \"Driving while using your cell phone has become a very controversial issue currently. Millions of drivers have had mixed feelings and opinions on this subject. In result, people have taken opposing sides. Some believe driving with using your phone isn't such a dangerous task, while others strongly believe it is an action that should never be done by drivers. They argue that this is very unsafe and can distract the driver from paying attention to the road. I agree. I believe that drivers should not use their cellphones while driving.\",\n",
        "    \"There are many differant reasons to limit car usage, the most well-known reason being that it will greatly reduce air pollution. Several places incuding Vauban Germany, Paris, Bogota Colombia, and the United States have proven this, especially Paris. Paris at one point in 2014, had to enforce a partial driving ban purely because of the hazzardous smog caused by air pollution. In doing so Paris relatively quickly cleared the majority of the smog, and realized how this can also help to reduce road congestion. The United States are another, larger example of how much limiting car use can help to reduce greenhouse gas emissions.\"\n",
        "]\n",
        "\n",
        "\n",
        "# Preprocess\n",
        "human_df = pd.DataFrame({\"text\": human_samples})\n",
        "human_df[\"processed_text\"] = human_df[\"text\"].apply(preprocess_text)\n",
        "\n",
        "# Vectorize using trained TF-IDF\n",
        "X_human = tfidf_vectorizer.transform(human_df[\"processed_text\"])\n",
        "\n",
        "# Predict\n",
        "human_preds = lr_model.predict(X_human)\n",
        "human_probs = lr_model.predict_proba(X_human)\n",
        "\n",
        "# Display results\n",
        "for i, (text, pred, prob) in enumerate(zip(human_samples, human_preds, human_probs)):\n",
        "    label = \"Human\" if pred == 0 else \"AI-Generated\"\n",
        "    confidence = max(prob)\n",
        "    print(f\"\\n[Human Sample {i+1}]:\\n{text}\")\n",
        "    print(f\"Prediction: {label} (Confidence: {confidence:.4f})\")"
      ],
      "metadata": {
        "id": "JqPepOVNh3tC",
        "colab": {
          "base_uri": "https://localhost:8080/",
          "height": 0
        },
        "outputId": "e47b0ec6-18de-4653-cf78-a77bc49c72fc"
      },
      "execution_count": 43,
      "outputs": [
        {
          "output_type": "stream",
          "name": "stdout",
          "text": [
            "\n",
            "[Human Sample 1]:\n",
            "The school times were the best, we had the opportunity to hang around, be lazy and don't do our assignments, I wish I was still in school.\n",
            "Prediction: Human (Confidence: 0.7677)\n",
            "\n",
            "[Human Sample 2]:\n",
            "Our jobs are indeed becoming automated, just the other day I had the chance of building an automated agent using GPTs new feature and ordered myself a chicken rotisserie form Costco. It was such an unbelivable moment in office.\n",
            "Prediction: AI-Generated (Confidence: 0.6872)\n",
            "\n",
            "[Human Sample 3]:\n",
            "A wise man once said, by losing a battle does not mean you lost a war, it just shows oyur time is not right and you have a few more chances to get this right. SO why not ocncentrate on our next steps and future, rather than concentrating on what has occured. I believe, it all happens for the good\n",
            "Prediction: AI-Generated (Confidence: 0.6208)\n",
            "\n",
            "[Human Sample 4]:\n",
            "Driving while using your cell phone has become a very controversial issue currently. Millions of drivers have had mixed feelings and opinions on this subject. In result, people have taken opposing sides. Some believe driving with using your phone isn't such a dangerous task, while others strongly believe it is an action that should never be done by drivers. They argue that this is very unsafe and can distract the driver from paying attention to the road. I agree. I believe that drivers should not use their cellphones while driving.\n",
            "Prediction: Human (Confidence: 0.8721)\n",
            "\n",
            "[Human Sample 5]:\n",
            "There are many differant reasons to limit car usage, the most well-known reason being that it will greatly reduce air pollution. Several places incuding Vauban Germany, Paris, Bogota Colombia, and the United States have proven this, especially Paris. Paris at one point in 2014, had to enforce a partial driving ban purely because of the hazzardous smog caused by air pollution. In doing so Paris relatively quickly cleared the majority of the smog, and realized how this can also help to reduce road congestion. The United States are another, larger example of how much limiting car use can help to reduce greenhouse gas emissions.\n",
            "Prediction: Human (Confidence: 0.6627)\n"
          ]
        }
      ]
    },
    {
      "cell_type": "code",
      "source": [
        "# Sample: AI-generated texts\n",
        "ai_samples = [\n",
        "    \"The implications of artificial intelligence in healthcare are far-reaching, promising better diagnosis and treatment outcomes through machine learning.\",\n",
        "    \"In the realm of astrophysics, black holes are defined not by their size, but by their gravitational pull, which even light cannot escape.\",\n",
        "    \"Economic inflation is often a result of supply chain disruptions and increasing consumer demand, especially in post-crisis scenarios.\",\n",
        "    \"Climate change continues to pose significant challenges, requiring coordinated global efforts to reduce carbon emissions and embrace renewable energy.\",\n",
        "    \"The evolution of language models has opened new doors in natural language understanding, enabling more human-like interactions with AI.\"\n",
        "]\n",
        "\n",
        "# Preprocess\n",
        "ai_df = pd.DataFrame({\"text\": ai_samples})\n",
        "ai_df[\"processed_text\"] = ai_df[\"text\"].apply(preprocess_text)\n",
        "\n",
        "# Transform\n",
        "X_ai = tfidf_vectorizer.transform(ai_df[\"processed_text\"])\n",
        "\n",
        "# Predict\n",
        "ai_preds = lr_model.predict(X_ai)\n",
        "ai_probs = lr_model.predict_proba(X_ai)\n",
        "\n",
        "# Display\n",
        "for i, (text, pred, prob) in enumerate(zip(ai_samples, ai_preds, ai_probs)):\n",
        "    label = \"Human\" if pred == 0 else \"AI-Generated\"\n",
        "    confidence = np.max(prob)\n",
        "    print(f\"\\n[AI Sample {i+1}]:\\n{text}\")\n",
        "    print(f\"Prediction: {label} (Confidence: {confidence:.4f})\")\n"
      ],
      "metadata": {
        "id": "mOHTfsLaiKN2",
        "colab": {
          "base_uri": "https://localhost:8080/",
          "height": 0
        },
        "outputId": "32832eb3-0072-4951-d269-69c4f468092c"
      },
      "execution_count": 44,
      "outputs": [
        {
          "output_type": "stream",
          "name": "stdout",
          "text": [
            "\n",
            "[AI Sample 1]:\n",
            "The implications of artificial intelligence in healthcare are far-reaching, promising better diagnosis and treatment outcomes through machine learning.\n",
            "Prediction: AI-Generated (Confidence: 0.9954)\n",
            "\n",
            "[AI Sample 2]:\n",
            "In the realm of astrophysics, black holes are defined not by their size, but by their gravitational pull, which even light cannot escape.\n",
            "Prediction: AI-Generated (Confidence: 0.9510)\n",
            "\n",
            "[AI Sample 3]:\n",
            "Economic inflation is often a result of supply chain disruptions and increasing consumer demand, especially in post-crisis scenarios.\n",
            "Prediction: AI-Generated (Confidence: 0.9953)\n",
            "\n",
            "[AI Sample 4]:\n",
            "Climate change continues to pose significant challenges, requiring coordinated global efforts to reduce carbon emissions and embrace renewable energy.\n",
            "Prediction: AI-Generated (Confidence: 1.0000)\n",
            "\n",
            "[AI Sample 5]:\n",
            "The evolution of language models has opened new doors in natural language understanding, enabling more human-like interactions with AI.\n",
            "Prediction: AI-Generated (Confidence: 0.9878)\n"
          ]
        }
      ]
    },
    {
      "cell_type": "markdown",
      "source": [
        "## **Sampling using the naive bayes model**"
      ],
      "metadata": {
        "id": "HtyVlVMEWFzE"
      }
    },
    {
      "cell_type": "code",
      "source": [
        "# Sample: Human-written texts\n",
        "human_samples = [\n",
        "    \"The school times were the best, we had the opportunity to hang around, be lazy and don't do our assignments, I wish I was still in school.\",\n",
        "    \"Our jobs are indeed becoming automated, just the other day I had the chance of building an automated agent using GPTs new feature and ordered myself a chicken rotisserie form Costco. It was such an unbelivable moment in office.\",\n",
        "    \"A wise man once said, by losing a battle does not mean you lost a war, it just shows oyur time is not right and you have a few more chances to get this right. SO why not ocncentrate on our next steps and future, rather than concentrating on what has occured. I believe, it all happens for the good\",\n",
        "    \"Driving while using your cell phone has become a very controversial issue currently. Millions of drivers have had mixed feelings and opinions on this subject. In result, people have taken opposing sides. Some believe driving with using your phone isn't such a dangerous task, while others strongly believe it is an action that should never be done by drivers. They argue that this is very unsafe and can distract the driver from paying attention to the road. I agree. I believe that drivers should not use their cellphones while driving.\",\n",
        "    \"There are many differant reasons to limit car usage, the most well-known reason being that it will greatly reduce air pollution. Several places incuding Vauban Germany, Paris, Bogota Colombia, and the United States have proven this, especially Paris. Paris at one point in 2014, had to enforce a partial driving ban purely because of the hazzardous smog caused by air pollution. In doing so Paris relatively quickly cleared the majority of the smog, and realized how this can also help to reduce road congestion. The United States are another, larger example of how much limiting car use can help to reduce greenhouse gas emissions.\"\n",
        "]\n",
        "\n",
        "# Transform human samples using same TF-IDF vectorizer\n",
        "X_human_nb = tfidf_vectorizer.transform(human_df[\"processed_text\"])\n",
        "\n",
        "# Predict\n",
        "human_preds_nb = nb_model.predict(X_human_nb)\n",
        "human_probs_nb = nb_model.predict_proba(X_human_nb)\n",
        "\n",
        "# Display results\n",
        "for i, (text, pred, prob) in enumerate(zip(human_samples, human_preds_nb, human_probs_nb)):\n",
        "    label = \"Human\" if pred == 0 else \"AI-Generated\"\n",
        "    confidence = max(prob)\n",
        "    print(f\"\\n[Human Sample {i+1}]:\\n{text}\")\n",
        "    print(f\"Prediction: {label} (Confidence: {confidence:.4f})\")"
      ],
      "metadata": {
        "colab": {
          "base_uri": "https://localhost:8080/",
          "height": 0
        },
        "id": "mtsFR1CMVEYW",
        "outputId": "0c45a2ce-e6ad-4082-ffcb-d5edbdd5383c"
      },
      "execution_count": 45,
      "outputs": [
        {
          "output_type": "stream",
          "name": "stdout",
          "text": [
            "\n",
            "[Human Sample 1]:\n",
            "The school times were the best, we had the opportunity to hang around, be lazy and don't do our assignments, I wish I was still in school.\n",
            "Prediction: Human (Confidence: 0.8994)\n",
            "\n",
            "[Human Sample 2]:\n",
            "Our jobs are indeed becoming automated, just the other day I had the chance of building an automated agent using GPTs new feature and ordered myself a chicken rotisserie form Costco. It was such an unbelivable moment in office.\n",
            "Prediction: Human (Confidence: 0.8002)\n",
            "\n",
            "[Human Sample 3]:\n",
            "A wise man once said, by losing a battle does not mean you lost a war, it just shows oyur time is not right and you have a few more chances to get this right. SO why not ocncentrate on our next steps and future, rather than concentrating on what has occured. I believe, it all happens for the good\n",
            "Prediction: Human (Confidence: 0.9063)\n",
            "\n",
            "[Human Sample 4]:\n",
            "Driving while using your cell phone has become a very controversial issue currently. Millions of drivers have had mixed feelings and opinions on this subject. In result, people have taken opposing sides. Some believe driving with using your phone isn't such a dangerous task, while others strongly believe it is an action that should never be done by drivers. They argue that this is very unsafe and can distract the driver from paying attention to the road. I agree. I believe that drivers should not use their cellphones while driving.\n",
            "Prediction: Human (Confidence: 0.9801)\n",
            "\n",
            "[Human Sample 5]:\n",
            "There are many differant reasons to limit car usage, the most well-known reason being that it will greatly reduce air pollution. Several places incuding Vauban Germany, Paris, Bogota Colombia, and the United States have proven this, especially Paris. Paris at one point in 2014, had to enforce a partial driving ban purely because of the hazzardous smog caused by air pollution. In doing so Paris relatively quickly cleared the majority of the smog, and realized how this can also help to reduce road congestion. The United States are another, larger example of how much limiting car use can help to reduce greenhouse gas emissions.\n",
            "Prediction: Human (Confidence: 0.6524)\n"
          ]
        }
      ]
    },
    {
      "cell_type": "code",
      "source": [
        "# Sample: AI-generated texts\n",
        "ai_samples = [\n",
        "    \"The implications of artificial intelligence in healthcare are far-reaching, promising better diagnosis and treatment outcomes through machine learning.\",\n",
        "    \"In the realm of astrophysics, black holes are defined not by their size, but by their gravitational pull, which even light cannot escape.\",\n",
        "    \"Economic inflation is often a result of supply chain disruptions and increasing consumer demand, especially in post-crisis scenarios.\",\n",
        "    \"Climate change continues to pose significant challenges, requiring coordinated global efforts to reduce carbon emissions and embrace renewable energy.\",\n",
        "    \"The evolution of language models has opened new doors in natural language understanding, enabling more human-like interactions with AI.\"\n",
        "]\n",
        "\n",
        "# Transform\n",
        "X_ai = tfidf_vectorizer.transform(ai_df[\"processed_text\"])\n",
        "\n",
        "# Predict\n",
        "ai_preds = lr_model.predict(X_ai)\n",
        "ai_probs = lr_model.predict_proba(X_ai)\n",
        "\n",
        "# Display\n",
        "for i, (text, pred, prob) in enumerate(zip(ai_samples, ai_preds, ai_probs)):\n",
        "    label = \"Human\" if pred == 0 else \"AI-Generated\"\n",
        "    confidence = np.max(prob)\n",
        "    print(f\"\\n[AI Sample {i+1}]:\\n{text}\")\n",
        "    print(f\"Prediction: {label} (Confidence: {confidence:.4f})\")\n"
      ],
      "metadata": {
        "colab": {
          "base_uri": "https://localhost:8080/",
          "height": 0
        },
        "id": "BfWtzeaQWXA9",
        "outputId": "117834c8-eb73-4eeb-b85f-57af11a7b02f"
      },
      "execution_count": 46,
      "outputs": [
        {
          "output_type": "stream",
          "name": "stdout",
          "text": [
            "\n",
            "[AI Sample 1]:\n",
            "The implications of artificial intelligence in healthcare are far-reaching, promising better diagnosis and treatment outcomes through machine learning.\n",
            "Prediction: AI-Generated (Confidence: 0.9954)\n",
            "\n",
            "[AI Sample 2]:\n",
            "In the realm of astrophysics, black holes are defined not by their size, but by their gravitational pull, which even light cannot escape.\n",
            "Prediction: AI-Generated (Confidence: 0.9510)\n",
            "\n",
            "[AI Sample 3]:\n",
            "Economic inflation is often a result of supply chain disruptions and increasing consumer demand, especially in post-crisis scenarios.\n",
            "Prediction: AI-Generated (Confidence: 0.9953)\n",
            "\n",
            "[AI Sample 4]:\n",
            "Climate change continues to pose significant challenges, requiring coordinated global efforts to reduce carbon emissions and embrace renewable energy.\n",
            "Prediction: AI-Generated (Confidence: 1.0000)\n",
            "\n",
            "[AI Sample 5]:\n",
            "The evolution of language models has opened new doors in natural language understanding, enabling more human-like interactions with AI.\n",
            "Prediction: AI-Generated (Confidence: 0.9878)\n"
          ]
        }
      ]
    },
    {
      "cell_type": "markdown",
      "source": [
        "Although Logistic Regression performs better on test metrics, Naive Bayes showed better generalization on manually sampled real-world texts during final sampling. This suggests that while LR may have slightly overfitted to the training distribution, Naive Bayes serves as a more robust and conservative baseline, especially for out-of-distribution samples.\n",
        "Most of the human texts were falsely classfied by logistic regression wheras naive bayes tried to correctly figure out the human and AI generated texts to show it perofrms better over logistic regression.\n",
        "\n",
        "A more robust example for this is shown below, with 3 samples each determining which model will detect the text correctly as either AI or Human generated."
      ],
      "metadata": {
        "id": "-cz_CAnZq9QQ"
      }
    },
    {
      "cell_type": "markdown",
      "source": [
        "### **Human generated examples and determining which model is doing better in real life, NB or LR**"
      ],
      "metadata": {
        "id": "J4QvI4tGcAwK"
      }
    },
    {
      "cell_type": "code",
      "source": [
        "# Define input samples - Samples extracted from a novel: https://www.gutenberg.org/cache/epub/76641/pg76641-images.html#ch3\n",
        "# The Project Gutenberg eBook of The Molly Maguires and the detectives\n",
        "samples = [\n",
        "\"When the young man glanced at his figure, as reflected in a mirror, he found it difficult to believe he was really himself and not some wild vagabond who had usurped his place. The transformation was satisfactorily complete. He beheld in the glass the shadow of a man of about his height and proportions, it was true, his head covered by an old, dilapidated and dirt-colored slouch hat, with plentiful space for his cutty-pipe in its narrow, faded band; a grayish coat of coarse materials, which had, from appearances, seen service in a coal bin, and, while never very fine in make or fashion, was considerably the worse about the cuffs and skirts, both being frayed out to raveled raggedness, from rough usage by its former owner. The vest was originally black, but the years had come and gone in such numbers since, that the dye was washed away, and with it had fled the surface of the cloth and most of the worsted binding in the region of the pockets. The pantaloons, of brown woollen stuff, were whole, but too large for him in the body, and worn strapped tight at the waist with a leather belt, which, from its yellowish and broken condition, might have been a former bell-thong off the neck of some farmer’s cow, appropriated after exposure to all kinds of wear and weather for a series of years. The bosom of a heavy gray shirt was seen beneath the waistcoat, and exhibited no visible vestige of a collar; but a substitute was formed by a red yarn cravat, or knitted comforter, drawn closely around the wearer’s neck and tied in a sailor’s knot in front. The under garment had that which ordinary shirts are seldom supplied with—a pocket, at the left inner side, for tobacco. His boots were of the stoga, hob-nailed, high-topped style, and in their capacious legs easily rested the bottoms of the pantaloons. With face unshaven for a week or ten days, and hair quite dry and straggling, from 29want of proper attention, it is probable that McParlan’s mother, had she been present, would have refused him recognition. He could only be convinced that he was himself, by reference to his voice, which sounded familiar to the ear. In his satchels, ready packed, were supplies of writing paper, envelopes, stamps, etc.; also a suit of clothes a little better than that upon his person, for occasional Sunday wear. Razor and strop he had none. Their absence was no loss, however, as he did not propose shaving his face until circumstances might call for the resumption of his natural character.\",\n",
        "\n",
        "\"Passing beyond the populous city of Reading, late in the afternoon, the agricultural lands began, as the stranger thought, a silent struggle with rocks and rills and more rugged mountains. As they still proceeded swiftly on their route, the rough country gained the mastery, and the fleeting show increased in boldness, culminating in a grand and craggy beauty when the locomotive whistled “down the brakes” at a point some distance short of Port Clinton. By this time portentous clouds had arisen darkly in the west, as the sun sunk to its couch, and there were other premonitions of an impending storm of wind and rain.\",\n",
        "\n",
        "\"The conclusion of these remarks brought the pedestrians, soaking wet, and desirous of putting themselves beyond the reach of the rain, by the side of a large wooden structure, which might be tenantless, from all that any outsider could hear, or see, for that matter, in the darkness of the night.“Phat’s up now, I wonder?” said Timmins, who found his effort to enter the place stubbornly resisted from within. There was no bolt or bar, he said, but come open the door would not. A soft, partly yielding but insurmountable obstacle, resisted the pushing of the two men, who unitedly tried to shove in the barrier. Then movements were heard inside, and presently came a woman’s voice: “Is that you, Tony?” “Yes! It is me! An’ phat the wonder is it that fastens the door? It’s kaping myself an’ a stranger out here in the drinchin’ rain, ye are!”\"\n",
        "]\n",
        "\n",
        "# Preprocess\n",
        "sample_df = pd.DataFrame({\"text\": samples})\n",
        "sample_df[\"processed_text\"] = sample_df[\"text\"].apply(preprocess_text)\n",
        "\n",
        "# Transform\n",
        "X_sample = tfidf_vectorizer.transform(sample_df[\"processed_text\"])\n",
        "\n",
        "# Predict with Logistic Regression\n",
        "lr_preds = lr_model.predict(X_sample)\n",
        "lr_probs = lr_model.predict_proba(X_sample)\n",
        "\n",
        "# Predict with Naive Bayes\n",
        "nb_preds = nb_model.predict(X_sample)\n",
        "nb_probs = nb_model.predict_proba(X_sample)\n",
        "\n",
        "# Output results\n",
        "for i, text in enumerate(samples):\n",
        "    print(f\"\\n[Sample {i+1}]: {text}\\n\")\n",
        "\n",
        "    label_lr = \"Human\" if lr_preds[i] == 0 else \"AI-Generated\"\n",
        "    label_nb = \"Human\" if nb_preds[i] == 0 else \"AI-Generated\"\n",
        "\n",
        "    print(f\"Logistic Regression: {label_lr} (Confidence: {np.max(lr_probs[i]):.4f})\")\n",
        "    print(f\"Naive Bayes        : {label_nb} (Confidence: {np.max(nb_probs[i]):.4f})\")"
      ],
      "metadata": {
        "colab": {
          "base_uri": "https://localhost:8080/",
          "height": 0
        },
        "id": "FwbkLsCXa5Ml",
        "outputId": "596a216c-294c-4ae2-aecb-026c114f0756"
      },
      "execution_count": 51,
      "outputs": [
        {
          "output_type": "stream",
          "name": "stdout",
          "text": [
            "\n",
            "[Sample 1]: When the young man glanced at his figure, as reflected in a mirror, he found it difficult to believe he was really himself and not some wild vagabond who had usurped his place. The transformation was satisfactorily complete. He beheld in the glass the shadow of a man of about his height and proportions, it was true, his head covered by an old, dilapidated and dirt-colored slouch hat, with plentiful space for his cutty-pipe in its narrow, faded band; a grayish coat of coarse materials, which had, from appearances, seen service in a coal bin, and, while never very fine in make or fashion, was considerably the worse about the cuffs and skirts, both being frayed out to raveled raggedness, from rough usage by its former owner. The vest was originally black, but the years had come and gone in such numbers since, that the dye was washed away, and with it had fled the surface of the cloth and most of the worsted binding in the region of the pockets. The pantaloons, of brown woollen stuff, were whole, but too large for him in the body, and worn strapped tight at the waist with a leather belt, which, from its yellowish and broken condition, might have been a former bell-thong off the neck of some farmer’s cow, appropriated after exposure to all kinds of wear and weather for a series of years. The bosom of a heavy gray shirt was seen beneath the waistcoat, and exhibited no visible vestige of a collar; but a substitute was formed by a red yarn cravat, or knitted comforter, drawn closely around the wearer’s neck and tied in a sailor’s knot in front. The under garment had that which ordinary shirts are seldom supplied with—a pocket, at the left inner side, for tobacco. His boots were of the stoga, hob-nailed, high-topped style, and in their capacious legs easily rested the bottoms of the pantaloons. With face unshaven for a week or ten days, and hair quite dry and straggling, from 29want of proper attention, it is probable that McParlan’s mother, had she been present, would have refused him recognition. He could only be convinced that he was himself, by reference to his voice, which sounded familiar to the ear. In his satchels, ready packed, were supplies of writing paper, envelopes, stamps, etc.; also a suit of clothes a little better than that upon his person, for occasional Sunday wear. Razor and strop he had none. Their absence was no loss, however, as he did not propose shaving his face until circumstances might call for the resumption of his natural character.\n",
            "\n",
            "Logistic Regression: AI-Generated (Confidence: 0.5859)\n",
            "Naive Bayes        : Human (Confidence: 0.9212)\n",
            "\n",
            "[Sample 2]: Passing beyond the populous city of Reading, late in the afternoon, the agricultural lands began, as the stranger thought, a silent struggle with rocks and rills and more rugged mountains. As they still proceeded swiftly on their route, the rough country gained the mastery, and the fleeting show increased in boldness, culminating in a grand and craggy beauty when the locomotive whistled “down the brakes” at a point some distance short of Port Clinton. By this time portentous clouds had arisen darkly in the west, as the sun sunk to its couch, and there were other premonitions of an impending storm of wind and rain.\n",
            "\n",
            "Logistic Regression: AI-Generated (Confidence: 0.9375)\n",
            "Naive Bayes        : Human (Confidence: 0.6966)\n",
            "\n",
            "[Sample 3]: The conclusion of these remarks brought the pedestrians, soaking wet, and desirous of putting themselves beyond the reach of the rain, by the side of a large wooden structure, which might be tenantless, from all that any outsider could hear, or see, for that matter, in the darkness of the night.“Phat’s up now, I wonder?” said Timmins, who found his effort to enter the place stubbornly resisted from within. There was no bolt or bar, he said, but come open the door would not. A soft, partly yielding but insurmountable obstacle, resisted the pushing of the two men, who unitedly tried to shove in the barrier. Then movements were heard inside, and presently came a woman’s voice: “Is that you, Tony?” “Yes! It is me! An’ phat the wonder is it that fastens the door? It’s kaping myself an’ a stranger out here in the drinchin’ rain, ye are!”\n",
            "\n",
            "Logistic Regression: AI-Generated (Confidence: 0.7444)\n",
            "Naive Bayes        : Human (Confidence: 0.6600)\n"
          ]
        }
      ]
    },
    {
      "cell_type": "markdown",
      "source": [
        "### **AI generated examples and determining which model is doing better in real life, NB or LR**"
      ],
      "metadata": {
        "id": "rLEJWuUZcEEI"
      }
    },
    {
      "cell_type": "code",
      "source": [
        "# Define input samples\n",
        "samples=[\n",
        "\"In today’s fast-paced world, finding balance between work and personal life is more crucial than ever. People are constantly seeking productivity hacks, yet often overlook the value of mindfulness and setting healthy boundaries. Taking regular breaks, practicing gratitude, and prioritizing mental health are no longer luxuries—they’re necessities for long-term success.\",\n",
        "\n",
        "\"Photosynthesis is a biochemical process that allows plants to convert light energy into chemical energy, primarily in the form of glucose. This process takes place in the chloroplasts and involves a series of light-dependent and light-independent reactions. The overall equation for photosynthesis can be summarized as: 6CO₂ + 6H₂O + light → C₆H₁₂O₆ + 6O₂.\",\n",
        "\n",
        "\"Challenges are not roadblocks but stepping stones that shape our growth. Every failure we encounter carries a lesson, a hidden opportunity to reassess, adapt, and improve. It is in adversity that our true character is tested, and through persistence, even the most daunting obstacles can be transformed into milestones of progress.\"\n",
        "]\n",
        "# Preprocess\n",
        "sample_df = pd.DataFrame({\"text\": samples})\n",
        "sample_df[\"processed_text\"] = sample_df[\"text\"].apply(preprocess_text)\n",
        "\n",
        "# Transform\n",
        "X_sample = tfidf_vectorizer.transform(sample_df[\"processed_text\"])\n",
        "\n",
        "# Predict with Logistic Regression\n",
        "lr_preds = lr_model.predict(X_sample)\n",
        "lr_probs = lr_model.predict_proba(X_sample)\n",
        "\n",
        "# Predict with Naive Bayes\n",
        "nb_preds = nb_model.predict(X_sample)\n",
        "nb_probs = nb_model.predict_proba(X_sample)\n",
        "\n",
        "# Output results\n",
        "for i, text in enumerate(samples):\n",
        "    print(f\"\\n[Sample {i+1}]: {text}\\n\")\n",
        "\n",
        "    label_lr = \"Human\" if lr_preds[i] == 0 else \"AI-Generated\"\n",
        "    label_nb = \"Human\" if nb_preds[i] == 0 else \"AI-Generated\"\n",
        "\n",
        "    print(f\"Logistic Regression: {label_lr} (Confidence: {np.max(lr_probs[i]):.4f})\")\n",
        "    print(f\"Naive Bayes        : {label_nb} (Confidence: {np.max(nb_probs[i]):.4f})\")"
      ],
      "metadata": {
        "colab": {
          "base_uri": "https://localhost:8080/",
          "height": 0
        },
        "id": "EZjGAGD-b__y",
        "outputId": "ca4be97c-7852-4de1-83c8-c78998d221f1"
      },
      "execution_count": 52,
      "outputs": [
        {
          "output_type": "stream",
          "name": "stdout",
          "text": [
            "\n",
            "[Sample 1]: In today’s fast-paced world, finding balance between work and personal life is more crucial than ever. People are constantly seeking productivity hacks, yet often overlook the value of mindfulness and setting healthy boundaries. Taking regular breaks, practicing gratitude, and prioritizing mental health are no longer luxuries—they’re necessities for long-term success.\n",
            "\n",
            "Logistic Regression: AI-Generated (Confidence: 0.9989)\n",
            "Naive Bayes        : AI-Generated (Confidence: 0.9997)\n",
            "\n",
            "[Sample 2]: Photosynthesis is a biochemical process that allows plants to convert light energy into chemical energy, primarily in the form of glucose. This process takes place in the chloroplasts and involves a series of light-dependent and light-independent reactions. The overall equation for photosynthesis can be summarized as: 6CO₂ + 6H₂O + light → C₆H₁₂O₆ + 6O₂.\n",
            "\n",
            "Logistic Regression: AI-Generated (Confidence: 0.9840)\n",
            "Naive Bayes        : AI-Generated (Confidence: 0.7965)\n",
            "\n",
            "[Sample 3]: Challenges are not roadblocks but stepping stones that shape our growth. Every failure we encounter carries a lesson, a hidden opportunity to reassess, adapt, and improve. It is in adversity that our true character is tested, and through persistence, even the most daunting obstacles can be transformed into milestones of progress.\n",
            "\n",
            "Logistic Regression: AI-Generated (Confidence: 0.9924)\n",
            "Naive Bayes        : AI-Generated (Confidence: 0.9957)\n"
          ]
        }
      ]
    },
    {
      "cell_type": "markdown",
      "source": [
        "# **Baseline Model Selection Justification**\n",
        "\n",
        "While both Logistic Regression (LR) and Naive Bayes (NB) were evaluated as potential baseline models using the same TF-IDF features, our final selection favors Naive Bayes based on its robustness and real-world generalization.\n",
        "\n",
        "Quantitatively, Logistic Regression outperformed Naive Bayes on the held-out test set:\n",
        "\n",
        "- LR Accuracy: 99.53%\n",
        "\n",
        "- NB Accuracy: 97.07%\n",
        "\n",
        "- LR Macro F1-score: 0.995\n",
        "\n",
        "- NB Macro F1-score: 0.968\n",
        "\n",
        "However, when evaluated on unseen, real-world human-written samples, Naive Bayes consistently produced more accurate and confident predictions. Specifically, NB correctly classified 5 out of 5 human-authored texts, while LR only correctly identified 3 out of 5. This suggests that LR may have overfitted to dataset-specific patterns, while NB maintained generalizability — a critical requirement for real-world deployment.\n",
        "\n",
        "Therefore, we select Naive Bayes as our baseline model for future benchmarking, particularly against transformer-based architectures, due to its:\n",
        "\n",
        "- Strong generalization to diverse input styles\n",
        "\n",
        "- Probabilistic handling of sparse TF-IDF features\n",
        "\n",
        "- Reduced tendency to overfit compared to LR"
      ],
      "metadata": {
        "id": "K7UqJxa_cmv3"
      }
    },
    {
      "cell_type": "markdown",
      "source": [
        "# SEA820 Final Project Plan – Phase 2: Transformer Fine-Tuning\n",
        "\n",
        "**Project Title**: Detecting AI-Generated Text Using Transformer Models  \n",
        "**Dataset**: Preprocessed CSV (`NLP/preprocessed_dataset.csv`)  \n",
        "**Baseline Model**: Naive Bayes (F1-score: 0.9685)\n",
        "\n",
        "\n",
        "## Project Overview\n",
        "\n",
        "This phase explores transformer-based models (**DistilBERT** and **RoBERTa**) to classify text as **human-written** or **AI-generated**. The objective is to **outperform our Naive Bayes baseline**, which demonstrated stronger real-world generalization despite slightly lower test set metrics compared to logistic regression. This phase also includes performance analysis, error inspection, and ethical considerations related to AI-generated content detection.\n",
        "\n",
        "\n",
        "## Task Assignment & Plan (2 Weeks)\n",
        "\n",
        "| Week | Task                      | Description                                                                 | Assigned To    |\n",
        "|------|---------------------------|-----------------------------------------------------------------------------|----------------|\n",
        "| 1    | Dataset Preparation       | Load preprocessed CSV into HuggingFace `DatasetDict`                        | Both           |\n",
        "| 1    | Tokenizer Setup           | Apply padding/truncation using FastTokenizers for both models               | Both           |\n",
        "| 1    | Fine-Tuning DistilBERT    | Train `distilbert-base-uncased` on 100k–150k balanced subset                | **Abhi**       |\n",
        "| 1    | Fine-Tuning RoBERTa       | Train `roberta-base` on the same balanced dataset                           | **Arnav**      |\n",
        "| 2    | Evaluation & Metrics      | Independently evaluate both models (acc, precision, recall, F1)             | Both (separate)|\n",
        "| 2    | Error Analysis            | Identify misclassifications, inspect false positives/negatives              | **Abhi**       |\n",
        "| 2    | Ethics Discussion         | Analyze model risks, fairness, and unintended harms                         | **Arnav**      |\n",
        "| 2    | Model Comparison          | Compare transformer results to Naive Bayes baseline                         | Both           |\n",
        "| 2    | Report Writing            | Jointly draft final report (methods, graphs, analysis, discussion)          | Both           |\n",
        "| 2    | Code Cleanup & README     | Finalize codebase, document structure, add usage guide                      | Both           |\n",
        "| 2    | Presentation (10-12 mins)   | Build slides and rehearse presentation together                             | Both           |\n",
        "\n",
        "\n",
        "## To look and compare with:\n",
        "- **Metrics**: Accuracy, Precision, Recall, F1\n",
        "- **Baseline**: Naive Bayes (TF-IDF-based model)\n",
        "\n",
        "\n",
        "\n",
        "## Deliverables\n",
        "\n",
        "- Evaluation outputs on validation and real-world samples  \n",
        "- Error analysis and ethical reflection writeups  \n",
        "- Final `report` and `ppt`  \n",
        "- `README.md` with environment setup and training instructions\n",
        "\n",
        "\n",
        "## Success Criteria\n",
        "\n",
        "- Transformer models match or exceed the Naive Bayes baseline (F1 ≥ 0.9685)  \n",
        "- Each member independently completes assigned model training and evaluation  \n",
        "- Final report includes metrics, error insights, and ethical analysis  \n",
        "- Sampling-based validation shows generalization to human-authored and AI content  \n",
        "- Presentation clearly communicates motivation, approach, baseline, and outcomes"
      ],
      "metadata": {
        "id": "u7NZl1VwTFxo"
      }
    }
  ]
}